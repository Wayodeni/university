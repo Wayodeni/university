{
  "nbformat": 4,
  "nbformat_minor": 0,
  "metadata": {
    "colab": {
      "provenance": [],
      "include_colab_link": true
    },
    "kernelspec": {
      "name": "python3",
      "display_name": "Python 3"
    },
    "language_info": {
      "name": "python"
    }
  },
  "cells": [
    {
      "cell_type": "markdown",
      "metadata": {
        "id": "view-in-github",
        "colab_type": "text"
      },
      "source": [
        "<a href=\"https://colab.research.google.com/github/Wayodeni/university/blob/main/Tasks/%D0%9E%D1%81%D0%BD%D0%BE%D0%B2%D1%8B_Python_%D0%9F%D1%80%D0%B0%D0%BA%D1%82%D0%B8%D1%87%D0%B5%D1%81%D0%BA%D0%B0%D1%8F_%D1%80%D0%B0%D0%B1%D0%BE%D1%82%D0%B0_5.ipynb\" target=\"_parent\"><img src=\"https://colab.research.google.com/assets/colab-badge.svg\" alt=\"Open In Colab\"/></a>"
      ]
    },
    {
      "cell_type": "markdown",
      "source": [
        "# **Практическая работа №5. Введение в Python. ООП рефакторинг**\n",
        "\n",
        "---\n",
        "\n",
        "\n"
      ],
      "metadata": {
        "id": "QliphIp1pbse"
      }
    },
    {
      "cell_type": "markdown",
      "source": [
        "**Обучающийся:** *Свиридов Лев Георгиевич*  "
      ],
      "metadata": {
        "id": "tTK8mNGDqA8Z"
      }
    },
    {
      "cell_type": "markdown",
      "source": [
        "\n",
        "\n",
        "---"
      ],
      "metadata": {
        "id": "wTJjWD61p_dZ"
      }
    },
    {
      "cell_type": "markdown",
      "source": [
        "## **Цель работы:**\n"
      ],
      "metadata": {
        "id": "hus_oUIb6-uw"
      }
    },
    {
      "cell_type": "markdown",
      "source": [
        "\n",
        "Провести рефакторинг ранее созданного Python-пакета в предыдущей практической работе, преобразовав его функциональность в соответствии с принципами объектно-ориентированного программирования. Обновленный пакет должен включать классы и методы для преобразования координат между декартовой и сферической системами координат, а также для работы с файлами."
      ],
      "metadata": {
        "id": "Jr6dLMMD69Z3"
      }
    },
    {
      "cell_type": "markdown",
      "source": [
        "\n",
        "\n",
        "## **Задачи:**\n"
      ],
      "metadata": {
        "id": "DZ02tlQN6_tI"
      }
    },
    {
      "cell_type": "markdown",
      "source": [
        "\n",
        "1. Анализ существующего пакета и определение необходимых изменений для перехода на ООП-парадигму.\n",
        "\n",
        "2. Создание новой структуры пакета с использованием классов и модулей, соответствующих принципам ООП.\n",
        "\n",
        "3. Реализация классов и методов для преобразования координат между декартовой и сферической системами координат.\n",
        "\n",
        "4. Реализация классов и методов для работы с файлами, обеспечивая удобный интерфейс для чтения и записи данных.\n",
        "\n",
        "5. Создание файла `__main__.py` с консольным интерфейсом для взаимодействия с функциональностью пакета.\n",
        "\n",
        "6. Тестирование и проверка работоспособности обновленного пакета на примерах, подтверждение корректности реализации."
      ],
      "metadata": {
        "id": "DCh4tfl06v45"
      }
    },
    {
      "cell_type": "markdown",
      "source": [
        "\n",
        "\n",
        "## **Демонстрация результата:**\n",
        "\n"
      ],
      "metadata": {
        "id": "iIyfPBIGbPdQ"
      }
    },
    {
      "cell_type": "markdown",
      "source": [
        "Вставьте код каждого из ваших модулей в соответствующие ячейки ниже.\n",
        "\n",
        "**Строку, начинающуюся на %%writefile... стирать запрещено**"
      ],
      "metadata": {
        "id": "1ARiSwg3bKML"
      }
    },
    {
      "cell_type": "markdown",
      "source": [
        "### **Содержимое модуля \\_\\_init__.py:**"
      ],
      "metadata": {
        "id": "kcPKYl5abzNp"
      }
    },
    {
      "cell_type": "code",
      "source": [
        "!mkdir geo_transform"
      ],
      "metadata": {
        "id": "T5t41w-tbD5I",
        "colab": {
          "base_uri": "https://localhost:8080/"
        },
        "outputId": "3765f097-4f40-4451-b120-7da1510ed4de"
      },
      "execution_count": null,
      "outputs": [
        {
          "output_type": "stream",
          "name": "stdout",
          "text": [
            "mkdir: cannot create directory ‘geo_transform’: File exists\n"
          ]
        }
      ]
    },
    {
      "cell_type": "code",
      "source": [
        "%%writefile geo_transform/__init__.py\n",
        "\n",
        "from .file_operations import CoordinateRepository\n",
        "from .transformations import Coordinates\n",
        "from .utils import Angle"
      ],
      "metadata": {
        "id": "p_UraYekagmv",
        "colab": {
          "base_uri": "https://localhost:8080/"
        },
        "outputId": "c15efcc7-daa9-43f6-acb4-f301b28a1685"
      },
      "execution_count": null,
      "outputs": [
        {
          "output_type": "stream",
          "name": "stdout",
          "text": [
            "Overwriting geo_transform/__init__.py\n"
          ]
        }
      ]
    },
    {
      "cell_type": "markdown",
      "source": [
        "### **Содержимое модуля transformations.py:**"
      ],
      "metadata": {
        "id": "GfgJWdI7cHoW"
      }
    },
    {
      "cell_type": "code",
      "source": [
        "%%writefile geo_transform/transformations.py\n",
        "\n",
        "import math\n",
        "from enum import Enum\n",
        "from functools import reduce\n",
        "from typing import Literal\n",
        "\n",
        "__all__ = [\"Coordinates\"]\n",
        "\n",
        "\n",
        "class CoordinatesType(str, Enum):\n",
        "    SPHERICAL = \"spherical\"\n",
        "    CARTESIAN = \"cartesian\"\n",
        "\n",
        "\n",
        "class Coordinates(tuple):\n",
        "    # https://en.wikipedia.org/wiki/N-sphere#Spherical_coordinates\n",
        "    coordinate_type: CoordinatesType | str\n",
        "\n",
        "    def __new__(\n",
        "        cls,\n",
        "        iterable,\n",
        "        coordinate_type: Literal[\n",
        "            CoordinatesType.CARTESIAN, CoordinatesType.SPHERICAL\n",
        "        ] = CoordinatesType.CARTESIAN,\n",
        "    ):\n",
        "        obj = super().__new__(cls, iterable)\n",
        "        obj.coordinate_type = coordinate_type\n",
        "        return obj\n",
        "\n",
        "    @property\n",
        "    def radius(self):\n",
        "        if self.coordinate_type == CoordinatesType.SPHERICAL:\n",
        "            return self[0]\n",
        "        return math.sqrt(sum(x**2 for x in self))\n",
        "\n",
        "    def spherical(self) -> tuple[float, ...]:\n",
        "        if self.coordinate_type == CoordinatesType.SPHERICAL:\n",
        "            return self\n",
        "\n",
        "        r = self.radius\n",
        "        n = len(self)\n",
        "        angles = []\n",
        "        for i in range(n - 2):\n",
        "            numerator = self[i]\n",
        "            denominator = math.sqrt(sum(x**2 for x in self[i:]))\n",
        "            angles.append(math.acos(numerator / denominator))\n",
        "        angles.append(math.atan2(self[-1], self[-2]))\n",
        "        return (r, *angles)\n",
        "\n",
        "    # https://en.wikipedia.org/wiki/N-sphere#cite_note-4\n",
        "    def cartesian(self) -> tuple[float, ...]:\n",
        "        if self.coordinate_type == CoordinatesType.CARTESIAN:\n",
        "            return self\n",
        "\n",
        "        r = self[0]\n",
        "        angles = self[1:]\n",
        "        n = len(angles) + 1\n",
        "\n",
        "        coords = []\n",
        "        for i in range(n):\n",
        "            if i == n - 1:\n",
        "                value = r * math.prod(math.sin(angles[j]) for j in range(n - 1))\n",
        "            else:\n",
        "                value = (\n",
        "                    r\n",
        "                    * math.cos(angles[i])\n",
        "                    * math.prod(math.sin(angles[j]) for j in range(i))\n",
        "                )\n",
        "            coords.append(value)\n",
        "        return tuple(coords)\n",
        "\n",
        "    def raw(self):\n",
        "        return self\n"
      ],
      "metadata": {
        "id": "PEwM6HmucHoX",
        "colab": {
          "base_uri": "https://localhost:8080/"
        },
        "outputId": "877e24c7-27dd-4283-f9ea-be412dd4cdc9"
      },
      "execution_count": null,
      "outputs": [
        {
          "output_type": "stream",
          "name": "stdout",
          "text": [
            "Overwriting geo_transform/transformations.py\n"
          ]
        }
      ]
    },
    {
      "cell_type": "markdown",
      "source": [
        "### **Содержимое модуля utils.py:**"
      ],
      "metadata": {
        "id": "tw_9FXFkcIBq"
      }
    },
    {
      "cell_type": "code",
      "source": [
        "%%writefile geo_transform/utils.py\n",
        "\n",
        "import math\n",
        "\n",
        "__all__ = [\"Angle\"]\n",
        "\n",
        "\n",
        "class Angle(float):\n",
        "    def __init__(self, value: int | float):\n",
        "        self.value = float(value)\n",
        "\n",
        "    @property\n",
        "    def rad(self) -> float:\n",
        "        return math.radians(self.value)\n",
        "\n",
        "    @property\n",
        "    def deg(self) -> float:\n",
        "        return math.degrees(self.value)\n",
        "\n",
        "    def raw(self):\n",
        "        return self.value\n"
      ],
      "metadata": {
        "id": "y96uQcmTcIBr",
        "colab": {
          "base_uri": "https://localhost:8080/"
        },
        "outputId": "650e0417-a51f-4cd0-82b1-3b46637a81da"
      },
      "execution_count": null,
      "outputs": [
        {
          "output_type": "stream",
          "name": "stdout",
          "text": [
            "Overwriting geo_transform/utils.py\n"
          ]
        }
      ]
    },
    {
      "cell_type": "markdown",
      "source": [
        "### **Содержимое модуля file_operations.py:**"
      ],
      "metadata": {
        "id": "kmYf0AOwcIOg"
      }
    },
    {
      "cell_type": "code",
      "source": [
        "%%writefile geo_transform/file_operations.py\n",
        "\n",
        "import csv\n",
        "import json\n",
        "from typing import Generator\n",
        "\n",
        "from .transformations import Coordinates, CoordinatesType\n",
        "\n",
        "__all__ = [\"CoordinateRepository\"]\n",
        "\n",
        "CSV_FILE_TYPE = \"csv\"\n",
        "SUPPORTED_FILE_TYPES = (CSV_FILE_TYPE,)\n",
        "\n",
        "\n",
        "class CoordinateRepository:\n",
        "\n",
        "    def write(\n",
        "        self,\n",
        "        coords: Coordinates,\n",
        "        filename: str = \"output.csv\",\n",
        "        append: bool = True,\n",
        "    ):\n",
        "        with open(\n",
        "            filename, mode=\"w\" if not append else \"a\", encoding=\"utf-8\", newline=\"\"\n",
        "        ) as f:\n",
        "            w = csv.writer(f)\n",
        "            w.writerow(coords)\n",
        "            return f.name\n",
        "\n",
        "    def read(\n",
        "        self,\n",
        "        filename: str = \"input.csv\",\n",
        "        coordinate_type: str = CoordinatesType.CARTESIAN,\n",
        "    ) -> Generator[Coordinates, None, None]:\n",
        "        if \".\" not in filename:\n",
        "            raise ValueError(\n",
        "                f\"Unable to determine filetype. Provide file extension. Supported filetypes: {SUPPORTED_FILE_TYPES}\"\n",
        "            )\n",
        "        elif filename.endswith(CSV_FILE_TYPE):\n",
        "            with open(filename, mode=\"r\", encoding=\"utf-8\") as f:\n",
        "                r = csv.reader(f)\n",
        "                for line in r:\n",
        "                    yield Coordinates(\n",
        "                        tuple(float(coord) for coord in line),\n",
        "                        coordinate_type=coordinate_type,\n",
        "                    )\n",
        "        else:\n",
        "            raise ValueError(f\"Unknown file type: {filename.split(\".\")[-1]}\")\n"
      ],
      "metadata": {
        "id": "HkmXurkjcIOg",
        "colab": {
          "base_uri": "https://localhost:8080/"
        },
        "outputId": "38286026-a60d-426a-c4df-a7b1bd612959"
      },
      "execution_count": null,
      "outputs": [
        {
          "output_type": "stream",
          "name": "stdout",
          "text": [
            "Overwriting geo_transform/file_operations.py\n"
          ]
        }
      ]
    },
    {
      "cell_type": "markdown",
      "source": [
        "### **Содержимое модуля \\_\\_main__.py:**"
      ],
      "metadata": {
        "id": "qUQb0g_RcaUd"
      }
    },
    {
      "cell_type": "code",
      "source": [
        "%%writefile geo_transform/terminal_ui.py\n",
        "%%pip install cutie\n",
        "\n",
        "import os\n",
        "from typing import Any, Callable, Iterable\n",
        "\n",
        "import cutie\n",
        "import file_operations\n",
        "\n",
        "\n",
        "# COMPONENTS\n",
        "class Button:\n",
        "    \"\"\"\n",
        "    Класс кнопки. (Пункт в списке, который возможно выбрать нажатием Enter)\n",
        "    При нажатии на кнопку выполняется метод press, который вызывает функцию\n",
        "    действия, которая была передана при создании объекта кнопки.\n",
        "    \"\"\"\n",
        "\n",
        "    def __init__(self, name: str, action: Callable = lambda: None):\n",
        "        self.set_name(name)\n",
        "        self._action = action\n",
        "\n",
        "    def get_name(self) -> str:\n",
        "        return self._name\n",
        "\n",
        "    def set_name(self, name: str) -> None:\n",
        "        self._name = name\n",
        "\n",
        "    def press(self):\n",
        "        self._action()\n",
        "\n",
        "\n",
        "MAIN_MENU_BUTTON = Button(\"В главное меню\", lambda: title_and_main_menu())\n",
        "\n",
        "\n",
        "def validated_input(\n",
        "    input_name: str,\n",
        "    validators: Iterable[Callable[[str], None]] = [],\n",
        "    on_sucessful_confirm: Callable = lambda: None,\n",
        ") -> str:\n",
        "    \"\"\"\n",
        "    Инпут с возможностью валидации.\n",
        "    Отображает строку input_name и запрашивает ввод пользователя.\n",
        "    Не возвращает введенное пользователем значение, пока каждый из\n",
        "    валидаторов из списка validators не пройдет без ошибок.\n",
        "\n",
        "    Args:\n",
        "        input_name (str): Текст, отображаемый перед инпутом\n",
        "        validators (Iterable[Callable[[str], None]]): Список функций-валидаторов вводимого значения\n",
        "        on_sucessful_confirm (_type_, optional): Функция, выполняемая после успешного ввода. Defaults to lambda:None.\n",
        "\n",
        "    Returns:\n",
        "        str: Значение, которое ввел пользователь\n",
        "    \"\"\"\n",
        "    while True:\n",
        "        value = input(f\"{input_name}: \")\n",
        "\n",
        "        errors: list[str]\n",
        "        errors = []\n",
        "        for validator in validators:\n",
        "            try:\n",
        "                validator(value)\n",
        "            except ValidationError as e:\n",
        "                errors.append(str(e))\n",
        "\n",
        "        if len(errors) > 0:\n",
        "            [print(error) for error in errors]\n",
        "        else:\n",
        "            on_sucessful_confirm()\n",
        "            return value\n",
        "\n",
        "\n",
        "def select(\n",
        "    buttons: list[Button] = [],\n",
        "    non_selectable_buttons: list[Button] | None = None,\n",
        "    on_render: Callable = lambda: os.system(\"cls||clear\"),\n",
        ") -> None:\n",
        "    \"\"\"\n",
        "    Отображение списка из кнопок с возможностью отключить выбор кнопок, указав их\n",
        "    в non_selectable_buttons.\n",
        "\n",
        "    Args:\n",
        "        buttons (list[Button]): Список кнопок для отображения\n",
        "        non_selectable_buttons (list[Button] | None, optional): Кнопки, которые нельзя будет выбрать. Defaults to None.\n",
        "    \"\"\"\n",
        "    on_render()\n",
        "    button_names = [button.get_name() for button in buttons]\n",
        "    if non_selectable_buttons is not None:\n",
        "        non_selectable_button_names = [\n",
        "            button.get_name() for button in non_selectable_buttons\n",
        "        ]\n",
        "        non_selectable_button_indices = [\n",
        "            button_names.index(non_selectable_name)\n",
        "            for non_selectable_name in non_selectable_button_names\n",
        "        ]\n",
        "        pressed_button_index = cutie.select(button_names, non_selectable_button_indices)\n",
        "    else:\n",
        "        pressed_button_index = cutie.select(button_names)\n",
        "    buttons[pressed_button_index].press()\n",
        "\n",
        "\n",
        "def main_menu() -> None:\n",
        "    print(\"\")\n",
        "    print(\"Главное меню\")\n",
        "    print(\"─\" * 30)\n",
        "\n",
        "\n",
        "def title() -> None:\n",
        "    os.system(\"cls||clear\")\n",
        "    print(\"╭\" + \"─\".center(60, \"─\") + \"╮\")\n",
        "    print(\"│\" + \" \".center(60, \" \") + \"│\")\n",
        "    print(\"│\" + \"Geo Transform\".center(60, \" \") + \"│\")\n",
        "    print(\"│\" + \" \".center(60, \" \") + \"│\")\n",
        "    print(\"│\" + \"Утилита для работы с координатами\".center(60, \" \") + \"│\")\n",
        "    print(\"│\" + \"Разработал Свиридов Лев. Группа 2025-ФГИиБ-1м\".center(60, \" \") + \"│\")\n",
        "    print(\"│\" + \" \".center(60, \" \") + \"│\")\n",
        "    print(\"╰\" + \"─\".center(60, \"─\") + \"╯\")\n",
        "\n",
        "\n",
        "def title_and_main_menu() -> None:\n",
        "    title()\n",
        "    main_menu()\n",
        "\n",
        "\n",
        "def confirmation_prompt(\n",
        "    question: str,\n",
        "    on_confirm: Callable = lambda: None,\n",
        "    on_reject: Callable = lambda: None,\n",
        "    confirm_text: str = \"Да\",\n",
        "    reject_text: str = \"Нет\",\n",
        ") -> Any:\n",
        "    \"\"\"\n",
        "    Запрашивает у пользователя подтверждение действия, обозначенного в question.\n",
        "    В зависимости от согласия или отказа пользователя возвращает значение функции\n",
        "    из on_confirm или on_reject.\n",
        "\n",
        "    Args:\n",
        "        question (str): Описание действия для соглашения/отказа пользователя\n",
        "        on_confirm (_type_, optional): Функция, выполняемая при согласии. Defaults to lambda:None.\n",
        "        on_reject (_type_, optional): Функция, выполняемая при отклонении. Defaults to lambda:None.\n",
        "        confirm_text (str, optional): Текст кнопки подтверждения. Defaults to \"Да\".\n",
        "        reject_text (str, optional): Текст кнопки отклонения. Defaults to \"Нет\".\n",
        "\n",
        "    Returns:\n",
        "        Any: Значение функции из on_confirm или on_reject\n",
        "    \"\"\"\n",
        "    if cutie.prompt_yes_or_no(\n",
        "        question,\n",
        "        yes_text=confirm_text,\n",
        "        no_text=reject_text,\n",
        "        char_prompt=False,\n",
        "        default_is_yes=True,\n",
        "    ):\n",
        "        return on_confirm()\n",
        "    else:\n",
        "        return on_reject()\n",
        "\n",
        "\n",
        "def coordinate_input_with_caption_after_success(afterinput_string: str = \"\"):\n",
        "    os.system(\"cls||clear\")\n",
        "    return validated_input(\n",
        "        \"Введите координаты, разделенные пробелом\",\n",
        "        [\n",
        "            list_elems_validator(elem_validators=[only_digit_validator]),\n",
        "        ],\n",
        "        lambda: print(afterinput_string) if afterinput_string != \"\" else None,\n",
        "    ).split()\n",
        "\n",
        "\n",
        "# END COMPONENTS\n",
        "\n",
        "\n",
        "# ERRORS\n",
        "class ValidationError(Exception):\n",
        "    \"\"\"\n",
        "    Исключение, выбрасываемое при ошибке валидации\n",
        "    \"\"\"\n",
        "\n",
        "    pass\n",
        "\n",
        "\n",
        "# END ERRORS\n",
        "\n",
        "\n",
        "# VALIDATORS\n",
        "def not_empty(value: str) -> None:\n",
        "    if len(value) == 0 or value.isspace():\n",
        "        raise ValidationError(\"Значение не должно быть пустым.\")\n",
        "\n",
        "\n",
        "def list_len_validator(length: int = 3, sep: str = \" \") -> Callable[[str], None]:\n",
        "    def validate(value: str) -> None:\n",
        "        if len(value.split(sep)) != length:\n",
        "            raise ValidationError(\n",
        "                f\"Количество элементов должно равняться {length}. Сейчас {len(value.split(sep))}.\"\n",
        "            )\n",
        "\n",
        "    return validate\n",
        "\n",
        "\n",
        "def list_elems_validator(\n",
        "    sep: str = \" \",\n",
        "    elem_validators: Iterable[Callable[[str], None]] = [lambda _: None],\n",
        ") -> Callable[[str], None]:\n",
        "    def validate(value: str) -> None:\n",
        "        errors: Iterable[str] = []\n",
        "        for i, elem in enumerate(value.split(sep)):\n",
        "            for validator in elem_validators:\n",
        "                try:\n",
        "                    validator(elem)\n",
        "                except Exception as e:\n",
        "                    errors.append(\n",
        "                        f\"Ошибка для элемента '{elem}' под номером {i}: {str(e)}\"\n",
        "                    )\n",
        "        if len(errors):\n",
        "            raise ValidationError(\"\\n\".join(errors))\n",
        "\n",
        "    return validate\n",
        "\n",
        "\n",
        "def only_digit_validator(value: str) -> None:\n",
        "    is_num = True\n",
        "    try:\n",
        "        float(value)\n",
        "    except ValueError:\n",
        "        is_num = False\n",
        "\n",
        "    if not is_num:\n",
        "        raise ValidationError(f\"Значение '{value}' не является числом.\")\n",
        "\n",
        "\n",
        "# END VALIDATORS\n",
        "\n",
        "\n",
        "# ACTIONS\n",
        "\n",
        "# END ACTIONS\n"
      ],
      "metadata": {
        "colab": {
          "base_uri": "https://localhost:8080/"
        },
        "id": "oXqirJv-cOsh",
        "outputId": "f9c9d883-2496-48e9-eb6d-f32f71ae614b"
      },
      "execution_count": null,
      "outputs": [
        {
          "output_type": "stream",
          "name": "stdout",
          "text": [
            "Overwriting geo_transform/terminal_ui.py\n"
          ]
        }
      ]
    },
    {
      "cell_type": "code",
      "source": [
        "%%writefile geo_transform/__main__.py\n",
        "\n",
        "import file_operations\n",
        "import terminal_ui\n",
        "import transformations\n",
        "import utils\n",
        "\n",
        "if __name__ == \"__main__\":\n",
        "    coordinate_repo = file_operations.CoordinateRepository()\n",
        "    terminal_ui.title()\n",
        "    terminal_ui.main_menu()\n",
        "    while True:\n",
        "        terminal_ui.select(\n",
        "            on_render=lambda: None,\n",
        "            buttons=[\n",
        "                terminal_ui.Button(\n",
        "                    \"Преобразование координат\",\n",
        "                    lambda: terminal_ui.select(\n",
        "                        [\n",
        "                            terminal_ui.Button(\n",
        "                                \"Перевод в сферические\",\n",
        "                                lambda: print(\n",
        "                                    transformations.Coordinates(\n",
        "                                        map(\n",
        "                                            float,\n",
        "                                            terminal_ui.coordinate_input_with_caption_after_success(\n",
        "                                                \"Сферические координаты: \"\n",
        "                                            ),\n",
        "                                        ),\n",
        "                                        coordinate_type=transformations.CoordinatesType.CARTESIAN,\n",
        "                                    ).spherical()\n",
        "                                ),\n",
        "                            ),\n",
        "                            terminal_ui.Button(\n",
        "                                \"Перевод в декартовы\",\n",
        "                                lambda: print(\n",
        "                                    transformations.Coordinates(\n",
        "                                        map(\n",
        "                                            float,\n",
        "                                            terminal_ui.coordinate_input_with_caption_after_success(\n",
        "                                                \"Декартовы координаты: \"\n",
        "                                            ),\n",
        "                                        ),\n",
        "                                        coordinate_type=\"spherical\",\n",
        "                                    ).cartesian()\n",
        "                                ),\n",
        "                            ),\n",
        "                        ]\n",
        "                    ),\n",
        "                ),\n",
        "                terminal_ui.Button(\n",
        "                    \"Работа с файлами\",\n",
        "                    lambda: terminal_ui.select(\n",
        "                        [\n",
        "                            terminal_ui.Button(\n",
        "                                \"Записать результаты в файл\",\n",
        "                                lambda: print(\n",
        "                                    coordinate_repo.write(\n",
        "                                        tuple(\n",
        "                                            map(\n",
        "                                                float,\n",
        "                                                terminal_ui.coordinate_input_with_caption_after_success(),\n",
        "                                            )\n",
        "                                        ),  # type: ignore\n",
        "                                        terminal_ui.confirmation_prompt(\n",
        "                                            \"Хотите переопределить имя выходного файла (по умолчанию - output.csv)\",\n",
        "                                            on_confirm=lambda: terminal_ui.validated_input(\n",
        "                                                \"Введите имя файла\"\n",
        "                                            ),\n",
        "                                            on_reject=lambda: \"output.csv\",\n",
        "                                        ),\n",
        "                                        terminal_ui.confirmation_prompt(\n",
        "                                            \"Дописать в конец\",\n",
        "                                            on_confirm=lambda: True,\n",
        "                                            on_reject=lambda: False,\n",
        "                                        ),\n",
        "                                    )\n",
        "                                ),\n",
        "                            ),\n",
        "                            terminal_ui.Button(\n",
        "                                \"Считать результаты из файла\",\n",
        "                                lambda: print(\n",
        "                                    list(\n",
        "                                        coordinate_repo.read(\n",
        "                                            terminal_ui.validated_input(\n",
        "                                                \"Введите имя файла\",\n",
        "                                                [terminal_ui.not_empty],\n",
        "                                            )\n",
        "                                        )\n",
        "                                    )\n",
        "                                ),\n",
        "                            ),\n",
        "                        ]\n",
        "                    ),\n",
        "                ),\n",
        "                terminal_ui.Button(\n",
        "                    \"Утилиты\",\n",
        "                    lambda: terminal_ui.select(\n",
        "                        [\n",
        "                            terminal_ui.Button(\n",
        "                                \"Градусы в радианы\",\n",
        "                                lambda: print(\n",
        "                                    \"Радиан: \",\n",
        "                                    utils.Angle(\n",
        "                                        float(\n",
        "                                            terminal_ui.validated_input(\n",
        "                                                \"Введите число градусов\",\n",
        "                                                [\n",
        "                                                    terminal_ui.not_empty,\n",
        "                                                    terminal_ui.only_digit_validator,\n",
        "                                                ],\n",
        "                                            )\n",
        "                                        )\n",
        "                                    ).rad,\n",
        "                                ),\n",
        "                            ),\n",
        "                            terminal_ui.Button(\n",
        "                                \"Радианы в градусы\",\n",
        "                                lambda: print(\n",
        "                                    \"Градусов: \",\n",
        "                                    utils.Angle(\n",
        "                                        float(\n",
        "                                            terminal_ui.validated_input(\n",
        "                                                \"Введите число радиан\",\n",
        "                                                [\n",
        "                                                    terminal_ui.not_empty,\n",
        "                                                    terminal_ui.only_digit_validator,\n",
        "                                                ],\n",
        "                                            )\n",
        "                                        )\n",
        "                                    ).deg,\n",
        "                                ),\n",
        "                            ),\n",
        "                        ]\n",
        "                    ),\n",
        "                ),\n",
        "            ],\n",
        "        )\n"
      ],
      "metadata": {
        "id": "qzNV09hfcaUe",
        "colab": {
          "base_uri": "https://localhost:8080/"
        },
        "outputId": "49ce877e-5aa7-4c24-97b6-8f10e4888f45"
      },
      "execution_count": null,
      "outputs": [
        {
          "output_type": "stream",
          "name": "stdout",
          "text": [
            "Overwriting geo_transform/__main__.py\n"
          ]
        }
      ]
    },
    {
      "cell_type": "markdown",
      "source": [
        "### **Содержимое модуля main.py (с импортом пакета и тестированием функций из него):**"
      ],
      "metadata": {
        "id": "vGqPXMcdcpxE"
      }
    },
    {
      "cell_type": "code",
      "source": [
        "import random\n",
        "\n",
        "from geo_transform import file_operations\n",
        "from geo_transform.transformations import Coordinates\n",
        "from geo_transform.utils import *\n",
        "\n",
        "repository = file_operations.CoordinateRepository()\n",
        "rand_range = (0, 100)\n",
        "for _ in range(10):\n",
        "    repository.write(\n",
        "        Coordinates(\n",
        "            (\n",
        "                random.randint(*rand_range),\n",
        "                random.randint(*rand_range),\n",
        "                random.randint(*rand_range),\n",
        "            )\n",
        "        )\n",
        "    )\n",
        "for coord in repository.read(\"output.csv\"):\n",
        "    print(\"=======================================================================\")\n",
        "    print(f\"Считанные координаты в сыром виде: {coord}\")\n",
        "    print(f\"Считанные координаты в декартовой системе: {coord.cartesian()}\")\n",
        "    print(f\"Считанные координаты в сферической системе: {coord.spherical()}\")\n"
      ],
      "metadata": {
        "id": "4b1mRDL6cpxE",
        "colab": {
          "base_uri": "https://localhost:8080/"
        },
        "outputId": "9f2b8aaf-e9bc-46e0-c3bd-6a228c6ef262"
      },
      "execution_count": null,
      "outputs": [
        {
          "output_type": "stream",
          "name": "stdout",
          "text": [
            "=======================================================================\n",
            "Считанные координаты в сыром виде: (7.0, 12.0, 68.0)\n",
            "Считанные координаты в декартовой системе: (7.0, 12.0, 68.0)\n",
            "Считанные координаты в сферической системе: (69.40461079784254, 1.4697666939471095, 1.396124127786657)\n",
            "=======================================================================\n",
            "Считанные координаты в сыром виде: (18.0, 73.0, 8.0)\n",
            "Считанные координаты в декартовой системе: (18.0, 73.0, 8.0)\n",
            "Считанные координаты в сферической системе: (75.61084578286372, 1.3304272740260599, 0.10915346290887773)\n",
            "=======================================================================\n",
            "Считанные координаты в сыром виде: (91.0, 18.0, 93.0)\n",
            "Считанные координаты в декартовой системе: (91.0, 18.0, 93.0)\n",
            "Считанные координаты в сферической системе: (131.35448222272433, 0.8054568643656255, 1.379611867197882)\n",
            "=======================================================================\n",
            "Считанные координаты в сыром виде: (67.0, 68.0, 23.0)\n",
            "Считанные координаты в декартовой системе: (67.0, 68.0, 23.0)\n",
            "Считанные координаты в сферической системе: (98.1936861514018, 0.8198581277881071, 0.3261558122434531)\n",
            "=======================================================================\n",
            "Считанные координаты в сыром виде: (97.0, 10.0, 77.0)\n",
            "Считанные координаты в декартовой системе: (97.0, 10.0, 77.0)\n",
            "Считанные координаты в сферической системе: (124.24974849069112, 0.6750340308281614, 1.4416490366668766)\n",
            "=======================================================================\n",
            "Считанные координаты в сыром виде: (77.0, 3.0, 26.0)\n",
            "Считанные координаты в декартовой системе: (77.0, 3.0, 26.0)\n",
            "Считанные координаты в сферической системе: (81.32650244538985, 0.3276512487941029, 1.4559197213779975)\n",
            "=======================================================================\n",
            "Считанные координаты в сыром виде: (85.0, 92.0, 4.0)\n",
            "Считанные координаты в декартовой системе: (85.0, 92.0, 4.0)\n",
            "Считанные координаты в сферической системе: (125.31959144523253, 0.8253962384642335, 0.04345089539153084)\n",
            "=======================================================================\n",
            "Считанные координаты в сыром виде: (75.0, 7.0, 88.0)\n",
            "Считанные координаты в декартовой системе: (75.0, 7.0, 88.0)\n",
            "Считанные координаты в сферической системе: (115.83609109426992, 0.866540867069571, 1.491418012235323)\n",
            "=======================================================================\n",
            "Считанные координаты в сыром виде: (31.0, 66.0, 38.0)\n",
            "Считанные координаты в декартовой системе: (31.0, 66.0, 38.0)\n",
            "Считанные координаты в сферической системе: (82.22530024268686, 1.184227226622568, 0.5224034317165288)\n",
            "=======================================================================\n",
            "Считанные координаты в сыром виде: (48.0, 61.0, 13.0)\n",
            "Считанные координаты в декартовой системе: (48.0, 61.0, 13.0)\n",
            "Считанные координаты в сферической системе: (78.70196947980399, 0.914867238444137, 0.2099735128621634)\n",
            "=======================================================================\n",
            "Считанные координаты в сыром виде: (85.0, 52.0, 39.0)\n",
            "Считанные координаты в декартовой системе: (85.0, 52.0, 39.0)\n",
            "Считанные координаты в сферической системе: (107.00467279516349, 0.6528466311007745, 0.6435011087932844)\n",
            "=======================================================================\n",
            "Считанные координаты в сыром виде: (57.0, 21.0, 66.0)\n",
            "Считанные координаты в декартовой системе: (57.0, 21.0, 66.0)\n",
            "Считанные координаты в сферической системе: (89.69949832635632, 0.8821986001750485, 1.2627435457711202)\n",
            "=======================================================================\n",
            "Считанные координаты в сыром виде: (77.0, 39.0, 84.0)\n",
            "Считанные координаты в декартовой системе: (77.0, 39.0, 84.0)\n",
            "Считанные координаты в сферической системе: (120.44085685513866, 0.8771854043689713, 1.1361261116456518)\n",
            "=======================================================================\n",
            "Считанные координаты в сыром виде: (74.0, 60.0, 66.0)\n",
            "Считанные координаты в декартовой системе: (74.0, 60.0, 66.0)\n",
            "Считанные координаты в сферической системе: (115.89650555560335, 0.8782477394901465, 0.8329812666744317)\n",
            "=======================================================================\n",
            "Считанные координаты в сыром виде: (13.0, 53.0, 94.0)\n",
            "Считанные координаты в декартовой системе: (13.0, 53.0, 94.0)\n",
            "Считанные координаты в сферической системе: (108.6922260329597, 1.450905548855345, 1.0573972757115773)\n",
            "=======================================================================\n",
            "Считанные координаты в сыром виде: (83.0, 56.0, 48.0)\n",
            "Считанные координаты в декартовой системе: (83.0, 56.0, 48.0)\n",
            "Считанные координаты в сферической системе: (111.03603018840326, 0.7264981434178308, 0.7086262721276703)\n",
            "=======================================================================\n",
            "Считанные координаты в сыром виде: (67.0, 96.0, 13.0)\n",
            "Считанные координаты в декартовой системе: (67.0, 96.0, 13.0)\n",
            "Считанные координаты в сферической системе: (117.7879450538127, 0.9657273351043956, 0.1345979141604667)\n",
            "=======================================================================\n",
            "Считанные координаты в сыром виде: (35.0, 27.0, 21.0)\n",
            "Считанные координаты в декартовой системе: (35.0, 27.0, 21.0)\n",
            "Считанные координаты в сферической системе: (48.938737212968626, 0.7739148992303078, 0.6610431688506869)\n",
            "=======================================================================\n",
            "Считанные координаты в сыром виде: (75.0, 13.0, 37.0)\n",
            "Считанные координаты в декартовой системе: (75.0, 13.0, 37.0)\n",
            "Считанные координаты в сферической системе: (84.63450832845902, 0.4817976843717158, 1.2329181385546182)\n",
            "=======================================================================\n",
            "Считанные координаты в сыром виде: (74.0, 73.0, 79.0)\n",
            "Считанные координаты в декартовой системе: (74.0, 73.0, 79.0)\n",
            "Считанные координаты в сферической системе: (130.56033088193365, 0.9681946952468273, 0.8248513644944878)\n"
          ]
        }
      ]
    }
  ]
}