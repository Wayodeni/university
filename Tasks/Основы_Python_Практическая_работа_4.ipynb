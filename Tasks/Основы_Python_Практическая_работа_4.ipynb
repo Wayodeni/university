{
  "nbformat": 4,
  "nbformat_minor": 0,
  "metadata": {
    "colab": {
      "provenance": [],
      "include_colab_link": true
    },
    "kernelspec": {
      "name": "python3",
      "display_name": "Python 3"
    },
    "language_info": {
      "name": "python"
    }
  },
  "cells": [
    {
      "cell_type": "markdown",
      "metadata": {
        "id": "view-in-github",
        "colab_type": "text"
      },
      "source": [
        "<a href=\"https://colab.research.google.com/github/Wayodeni/university/blob/main/Tasks/%D0%9E%D1%81%D0%BD%D0%BE%D0%B2%D1%8B_Python_%D0%9F%D1%80%D0%B0%D0%BA%D1%82%D0%B8%D1%87%D0%B5%D1%81%D0%BA%D0%B0%D1%8F_%D1%80%D0%B0%D0%B1%D0%BE%D1%82%D0%B0_4.ipynb\" target=\"_parent\"><img src=\"https://colab.research.google.com/assets/colab-badge.svg\" alt=\"Open In Colab\"/></a>"
      ]
    },
    {
      "cell_type": "markdown",
      "source": [
        "# **Практическая работа №4. Введение в Python. Модули и пакеты**\n",
        "\n",
        "---\n",
        "\n",
        "\n"
      ],
      "metadata": {
        "id": "QliphIp1pbse"
      }
    },
    {
      "cell_type": "markdown",
      "source": [
        "**Обучающийся:** *Свиридов Лев Георгиевич*  "
      ],
      "metadata": {
        "id": "tTK8mNGDqA8Z"
      }
    },
    {
      "cell_type": "markdown",
      "source": [
        "\n",
        "\n",
        "---"
      ],
      "metadata": {
        "id": "wTJjWD61p_dZ"
      }
    },
    {
      "cell_type": "markdown",
      "source": [
        "## **Цель работы:**\n"
      ],
      "metadata": {
        "id": "8sycqVegUH85"
      }
    },
    {
      "cell_type": "markdown",
      "source": [
        "Создать Python-пакет, включающий функции для преобразования координат между декартовой и сферической системами, а также для работы с файлами. Реализовать консольный интерфейс для взаимодействия с функциями пакета."
      ],
      "metadata": {
        "id": "bdHCMBx4UJTb"
      }
    },
    {
      "cell_type": "markdown",
      "source": [
        "## **Задачи:**\n"
      ],
      "metadata": {
        "id": "aziouLamURhA"
      }
    },
    {
      "cell_type": "markdown",
      "source": [
        "1. Создать структуру пакета с необходимыми модулями.\n",
        "2. Реализовать функции для преобразования координат.\n",
        "3. Реализовать функции для работы с файлами.\n",
        "4. Создать файл `__main__.py` с консольным интерфейсом для работы с пакетом.\n",
        "5. Проверить работоспособность пакета на примере."
      ],
      "metadata": {
        "id": "ZyNB5M23US9G"
      }
    },
    {
      "cell_type": "markdown",
      "source": [
        "## **Теоретическая часть:**"
      ],
      "metadata": {
        "id": "AoEP4riFYmrE"
      }
    },
    {
      "cell_type": "markdown",
      "source": [
        "1. **Преобразование декартовых координат в сферические:**\n",
        "\n",
        "   *Формулы для преобразования:*\n",
        "\n",
        "   $\n",
        "   r = \\sqrt{x^2 + y^2 + z^2}\n",
        "   $\n",
        "\n",
        "   - Эта формула вычисляет радиус $r$ от начала координат до точки с координатами $(x, y, z)$ в декартовой системе. Это расстояние в пространстве.\n",
        "\n",
        "   $\n",
        "   \\theta = 2 \\cdot \\text{atan2}(y, x + \\sqrt{x^2 + y^2})\n",
        "   $\n",
        "\n",
        "   - Формула для $\\theta$ (азимутальный угол) использует функцию $\\text{atan2}$, которая возвращает угол в радианах между положительной осью $x$ и точкой $(x, y)$. Умножение на 2 и добавление $\\sqrt{x^2 + y^2}$ в знаменатель обеспечивает корректное определение угла в диапазоне от 0 до $2\\pi$.\n",
        "\n",
        "   $\n",
        "   \\phi = \\text{atan2}(\\sqrt{x^2 + y^2}, z)\n",
        "   $\n",
        "\n",
        "   - Формула для $\\phi$ (полярный угол) также использует $\\text{atan2}$, но здесь она вычисляет угол между положительной осью $z$ и вектором от начала координат до точки. Это значение также получается в радианах.\n",
        "\n",
        "   **Значения $\\theta$ и $\\phi$ получаются в радианах. Для перевода их в градусы необходимо умножить на $\\frac{180}{\\pi}$.**\n",
        "\n",
        "\n",
        "\n"
      ],
      "metadata": {
        "id": "pEAfpUD_UYNL"
      }
    },
    {
      "cell_type": "markdown",
      "source": [
        "2. **Преобразование сферических координат в декартовые:**\n",
        "\n",
        "  *Формулы для преобразования:*\n",
        "\n",
        "   $\n",
        "   x = r \\cdot \\sin(\\phi) \\cdot \\cos(\\theta)\n",
        "   $\n",
        "   \n",
        "   - Эта формула вычисляет координату $x$ в декартовой системе, используя радиус $r$, полярный угол $\\phi$ и азимутальный угол $\\theta$.\n",
        "\n",
        "   $\n",
        "   y = r \\cdot \\sin(\\phi) \\cdot \\sin(\\theta)\n",
        "   $\n",
        "\n",
        "   - Аналогично, эта формула вычисляет координату $y$ в декартовой системе.\n",
        "\n",
        "   $\n",
        "   z = r \\cdot \\cos(\\phi)\n",
        "   $\n",
        "   \n",
        "   - Эта формула вычисляет координату $z$ в декартовой системе, используя радиус $r$ и полярный угол $\\phi$.\n",
        "\n",
        "   **Значения $\\theta$ и $\\phi$ должны быть заданы в радианах. Если они заданы в градусах, их необходимо предварительно перевести в радианы, умножив на $\\frac{\\pi}{180}$.**"
      ],
      "metadata": {
        "id": "PNgijVwBZQxC"
      }
    },
    {
      "cell_type": "markdown",
      "source": [
        "3. **Преобразование между градусами и радианами:**\n",
        "\n",
        "   $\n",
        "   \\text{градусы} \\rightarrow \\text{радианы}: \\text{degrees} \\cdot \\frac{\\pi}{180}\n",
        "   $\n",
        "   - Эта формула используется для перевода углов из градусов в радианы.\n",
        "\n",
        "   $\n",
        "   \\text{радианы} \\rightarrow \\text{градусы}: \\text{radians} \\cdot \\frac{180}{\\pi}\n",
        "   $\n",
        "   - Эта формула используется для перевода углов из радиан в градусы."
      ],
      "metadata": {
        "id": "km-P3kvIZOo9"
      }
    },
    {
      "cell_type": "code",
      "source": [
        "import math\n",
        "\n",
        "# Пример расчета синуса и косинуса от угла в градусах\n",
        "angle_degrees = 45  # Угол в градусах\n",
        "\n",
        "# Преобразование градусов в радианы\n",
        "angle_radians = math.radians(angle_degrees)\n",
        "\n",
        "# Расчет синуса и косинуса\n",
        "sin_value = math.sin(angle_radians)\n",
        "cos_value = math.cos(angle_radians)\n",
        "\n",
        "print(f\"Синус {angle_degrees} градусов: {sin_value}\")\n",
        "print(f\"Косинус {angle_degrees} градусов: {cos_value}\")"
      ],
      "metadata": {
        "colab": {
          "base_uri": "https://localhost:8080/"
        },
        "id": "UbLbordBWolF",
        "outputId": "b72bd6b1-5f66-4f0e-eaa6-b340f6502fbb"
      },
      "execution_count": 1,
      "outputs": [
        {
          "output_type": "stream",
          "name": "stdout",
          "text": [
            "Синус 45 градусов: 0.7071067811865475\n",
            "Косинус 45 градусов: 0.7071067811865476\n"
          ]
        }
      ]
    },
    {
      "cell_type": "code",
      "source": [
        "# Пример расчета atan2 и преобразования результата в градусы\n",
        "y = 1\n",
        "x = 5\n",
        "\n",
        "# Расчет atan2 в радианах\n",
        "atan2_radians = math.atan2(y, x)\n",
        "\n",
        "# Преобразование результата atan2 в градусы\n",
        "atan2_degrees = math.degrees(atan2_radians)\n",
        "\n",
        "print(f\"atan2({y}, {x}) в радианах: {atan2_radians}\")\n",
        "print(f\"atan2({y}, {x}) в градусах: {atan2_degrees}\")"
      ],
      "metadata": {
        "colab": {
          "base_uri": "https://localhost:8080/"
        },
        "id": "r6gfmCU2XN-j",
        "outputId": "83e7a32d-ac17-4eb1-809c-6fc9df6b7f5b"
      },
      "execution_count": 2,
      "outputs": [
        {
          "output_type": "stream",
          "name": "stdout",
          "text": [
            "atan2(1, 5) в радианах: 0.19739555984988075\n",
            "atan2(1, 5) в градусах: 11.309932474020213\n"
          ]
        }
      ]
    },
    {
      "cell_type": "markdown",
      "source": [
        "\n",
        "\n",
        "## **Практическая часть:**\n",
        "\n"
      ],
      "metadata": {
        "id": "xjcf5dryT4q6"
      }
    },
    {
      "cell_type": "markdown",
      "source": [
        "1. **Создание структуры пакета:**\n",
        "   Создайте директорию `geo_transform` и в ней следующие файлы:\n",
        "   - `__init__.py`\n",
        "   - `transformations.py`\n",
        "   - `utils.py`\n",
        "   - `file_operations.py`\n",
        "   - `__main__.py`\n",
        "\n",
        "2. **Реализация функций преобразования координат:**\n",
        "   В файле `transformations.py` реализуйте функции `cartesian_to_spherical` и `spherical_to_cartesian` с использованием приведенных выше формул.\n",
        "\n",
        "3. **Реализация вспомогательных функций:**\n",
        "   В файле `utils.py` реализуйте функции `deg_to_rad` и `rad_to_deg`.\n",
        "\n",
        "4. **Реализация функций для работы с файлами:**\n",
        "   В файле `file_operations.py` реализуйте функции `write_results_to_file` и `read_coordinates_from_file` для записи и чтения координат из текстовых файлов.\n",
        "\n",
        "5. **Создание `__init__.py`:**\n",
        "   В файле `__init__.py` добавьте импорты всех необходимых функций из других модулей.\n",
        "\n",
        "6. **Реализация консольного интерфейса в `__main__.py`:**\n",
        "   В файле `__main__.py` реализуйте консольный интерфейс для работы с функциями пакета.\n",
        "\n",
        "7. **Проверка работоспособности пакета:**\n",
        "   Запустите пакет как отдельную программу. Проверьте все функции через консольный интерфейс. Импортируйте пакет в стороннем модуле, убедитесь, что все функции работают корректно."
      ],
      "metadata": {
        "id": "3DlYz5qrVG-C"
      }
    },
    {
      "cell_type": "markdown",
      "source": [
        "\n",
        "\n",
        "## **Демонстрация результата:**\n",
        "\n"
      ],
      "metadata": {
        "id": "iIyfPBIGbPdQ"
      }
    },
    {
      "cell_type": "markdown",
      "source": [
        "Вставьте код каждого из ваших модулей в соответствующие ячейки ниже.\n",
        "\n",
        "**Строку, начинающуюся на %%writefile... стирать запрещено**"
      ],
      "metadata": {
        "id": "1ARiSwg3bKML"
      }
    },
    {
      "cell_type": "markdown",
      "source": [
        "### **Содержимое модуля \\_\\_init__.py:**"
      ],
      "metadata": {
        "id": "kcPKYl5abzNp"
      }
    },
    {
      "cell_type": "code",
      "source": [
        "!mkdir geo_transform"
      ],
      "metadata": {
        "id": "T5t41w-tbD5I"
      },
      "execution_count": 3,
      "outputs": []
    },
    {
      "cell_type": "code",
      "source": [
        "%%writefile geo_transform/__init__.py\n",
        "\n",
        "from .transformations import cartesian_to_spherical, spherical_to_cartesian\n",
        "from .utils import deg_to_rad, rad_to_deg\n",
        "from .file_operations import write_results_to_file, read_coordinates_from_file"
      ],
      "metadata": {
        "id": "p_UraYekagmv",
        "colab": {
          "base_uri": "https://localhost:8080/"
        },
        "outputId": "10cc21e1-b300-41b6-fbd8-b31ca04d3c54"
      },
      "execution_count": 4,
      "outputs": [
        {
          "output_type": "stream",
          "name": "stdout",
          "text": [
            "Writing geo_transform/__init__.py\n"
          ]
        }
      ]
    },
    {
      "cell_type": "markdown",
      "source": [
        "### **Содержимое модуля transformations.py:**"
      ],
      "metadata": {
        "id": "GfgJWdI7cHoW"
      }
    },
    {
      "cell_type": "code",
      "source": [
        "%%writefile geo_transform/transformations.py\n",
        "\n",
        "import math\n",
        "\n",
        "__all__ = [\"cartesian_to_spherical\", \"spherical_to_cartesian\"]\n",
        "\n",
        "\n",
        "def cartesian_to_spherical(x: float, y: float, z: float) -> tuple[float, float, float]:\n",
        "    r = math.sqrt(x**2 + y**2 + z**2)\n",
        "    theta = 2 * math.atan2(y, x + math.sqrt(x**2 + y**2))\n",
        "    phi = math.atan2(math.sqrt(x**2 + y**2), z)\n",
        "    return (r, theta, phi)\n",
        "\n",
        "\n",
        "def spherical_to_cartesian(\n",
        "    r: float, theta: float, phi: float\n",
        ") -> tuple[float, float, float]:\n",
        "    x = r * math.sin(phi) * math.cos(theta)\n",
        "    y = r * math.sin(phi) * math.sin(theta)\n",
        "    z = r * math.cos(phi)\n",
        "    return (x, y, z)\n"
      ],
      "metadata": {
        "id": "PEwM6HmucHoX",
        "colab": {
          "base_uri": "https://localhost:8080/"
        },
        "outputId": "5a7de103-cdd6-4b5d-9757-f493b865b9ef"
      },
      "execution_count": 5,
      "outputs": [
        {
          "output_type": "stream",
          "name": "stdout",
          "text": [
            "Writing geo_transform/transformations.py\n"
          ]
        }
      ]
    },
    {
      "cell_type": "markdown",
      "source": [
        "### **Содержимое модуля utils.py:**"
      ],
      "metadata": {
        "id": "tw_9FXFkcIBq"
      }
    },
    {
      "cell_type": "code",
      "source": [
        "%%writefile geo_transform/utils.py\n",
        "\n",
        "import math\n",
        "\n",
        "__all__ = [\"deg_to_rad\", \"rad_to_deg\"]\n",
        "\n",
        "\n",
        "def deg_to_rad(degrees: float) -> float:\n",
        "    return math.radians(degrees)\n",
        "\n",
        "\n",
        "def rad_to_deg(radians: float) -> float:\n",
        "    return math.degrees(radians)\n"
      ],
      "metadata": {
        "id": "y96uQcmTcIBr",
        "colab": {
          "base_uri": "https://localhost:8080/"
        },
        "outputId": "216d56dd-5db6-4c59-f5af-8303a296ecba"
      },
      "execution_count": 6,
      "outputs": [
        {
          "output_type": "stream",
          "name": "stdout",
          "text": [
            "Writing geo_transform/utils.py\n"
          ]
        }
      ]
    },
    {
      "cell_type": "markdown",
      "source": [
        "### **Содержимое модуля file_operations.py:**"
      ],
      "metadata": {
        "id": "kmYf0AOwcIOg"
      }
    },
    {
      "cell_type": "code",
      "source": [
        "%%writefile geo_transform/file_operations.py\n",
        "\n",
        "import csv\n",
        "import json\n",
        "from typing import Generator\n",
        "\n",
        "__all__ = [\"write_results_to_file\", \"read_coordinates_from_file\"]\n",
        "\n",
        "CSV_FILE_TYPE = \"csv\"\n",
        "SUPPORTED_FILE_TYPES = (CSV_FILE_TYPE,)\n",
        "\n",
        "\n",
        "def write_results_to_file(\n",
        "    coords: tuple[float, float, float],\n",
        "    filename: str = \"output.csv\",\n",
        "    append: bool = True,\n",
        "):\n",
        "    with open(\n",
        "        filename, mode=\"w\" if not append else \"a\", encoding=\"utf-8\", newline=\"\"\n",
        "    ) as f:\n",
        "        w = csv.writer(f)\n",
        "        w.writerow(coords)\n",
        "        return f.name\n",
        "\n",
        "\n",
        "def read_coordinates_from_file(\n",
        "    filename: str = \"input.csv\",\n",
        ") -> Generator[tuple[float, float, float], None, None]:\n",
        "    if \".\" not in filename:\n",
        "        raise ValueError(\n",
        "            f\"Unable to determine filetype. Provide file extension. Supported filetypes: {SUPPORTED_FILE_TYPES}\"\n",
        "        )\n",
        "    elif filename.endswith(CSV_FILE_TYPE):\n",
        "        with open(filename, mode=\"r\", encoding=\"utf-8\") as f:\n",
        "            r = csv.reader(f)\n",
        "            for line in r:\n",
        "                yield (\n",
        "                    float(line[0]),\n",
        "                    float(line[1]),\n",
        "                    float(line[2]),\n",
        "                )  # Assuming we are in 3dim space\n",
        "    else:\n",
        "        raise ValueError(f\"Unknown file type: {filename.split(\".\")[-1]}\")\n"
      ],
      "metadata": {
        "id": "HkmXurkjcIOg",
        "colab": {
          "base_uri": "https://localhost:8080/"
        },
        "outputId": "86c01c3a-0570-4226-e62d-19353b5ef668"
      },
      "execution_count": 7,
      "outputs": [
        {
          "output_type": "stream",
          "name": "stdout",
          "text": [
            "Writing geo_transform/file_operations.py\n"
          ]
        }
      ]
    },
    {
      "cell_type": "markdown",
      "source": [
        "### **Содержимое модуля \\_\\_main__.py:**"
      ],
      "metadata": {
        "id": "qUQb0g_RcaUd"
      }
    },
    {
      "cell_type": "code",
      "source": [
        "%%writefile geo_transform/terminal_ui.py\n",
        "%%pip install cutie\n",
        "\n",
        "import os\n",
        "from typing import Any, Callable, Iterable\n",
        "\n",
        "import cutie\n",
        "import file_operations\n",
        "\n",
        "\n",
        "# COMPONENTS\n",
        "class Button:\n",
        "    \"\"\"\n",
        "    Класс кнопки. (Пункт в списке, который возможно выбрать нажатием Enter)\n",
        "    При нажатии на кнопку выполняется метод press, который вызывает функцию\n",
        "    действия, которая была передана при создании объекта кнопки.\n",
        "    \"\"\"\n",
        "\n",
        "    def __init__(self, name: str, action: Callable = lambda: None):\n",
        "        self.set_name(name)\n",
        "        self._action = action\n",
        "\n",
        "    def get_name(self) -> str:\n",
        "        return self._name\n",
        "\n",
        "    def set_name(self, name: str) -> None:\n",
        "        self._name = name\n",
        "\n",
        "    def press(self):\n",
        "        self._action()\n",
        "\n",
        "\n",
        "MAIN_MENU_BUTTON = Button(\"В главное меню\", lambda: title_and_main_menu())\n",
        "\n",
        "\n",
        "def validated_input(\n",
        "    input_name: str,\n",
        "    validators: Iterable[Callable[[str], None]] = [],\n",
        "    on_sucessful_confirm: Callable = lambda: None,\n",
        ") -> str:\n",
        "    \"\"\"\n",
        "    Инпут с возможностью валидации.\n",
        "    Отображает строку input_name и запрашивает ввод пользователя.\n",
        "    Не возвращает введенное пользователем значение, пока каждый из\n",
        "    валидаторов из списка validators не пройдет без ошибок.\n",
        "\n",
        "    Args:\n",
        "        input_name (str): Текст, отображаемый перед инпутом\n",
        "        validators (Iterable[Callable[[str], None]]): Список функций-валидаторов вводимого значения\n",
        "        on_sucessful_confirm (_type_, optional): Функция, выполняемая после успешного ввода. Defaults to lambda:None.\n",
        "\n",
        "    Returns:\n",
        "        str: Значение, которое ввел пользователь\n",
        "    \"\"\"\n",
        "    while True:\n",
        "        value = input(f\"{input_name}: \")\n",
        "\n",
        "        errors: list[str]\n",
        "        errors = []\n",
        "        for validator in validators:\n",
        "            try:\n",
        "                validator(value)\n",
        "            except ValidationError as e:\n",
        "                errors.append(str(e))\n",
        "\n",
        "        if len(errors) > 0:\n",
        "            [print(error) for error in errors]\n",
        "        else:\n",
        "            on_sucessful_confirm()\n",
        "            return value\n",
        "\n",
        "\n",
        "def select(\n",
        "    buttons: list[Button] = [],\n",
        "    non_selectable_buttons: list[Button] | None = None,\n",
        "    on_render: Callable = lambda: os.system(\"cls||clear\"),\n",
        ") -> None:\n",
        "    \"\"\"\n",
        "    Отображение списка из кнопок с возможностью отключить выбор кнопок, указав их\n",
        "    в non_selectable_buttons.\n",
        "\n",
        "    Args:\n",
        "        buttons (list[Button]): Список кнопок для отображения\n",
        "        non_selectable_buttons (list[Button] | None, optional): Кнопки, которые нельзя будет выбрать. Defaults to None.\n",
        "    \"\"\"\n",
        "    on_render()\n",
        "    button_names = [button.get_name() for button in buttons]\n",
        "    if non_selectable_buttons is not None:\n",
        "        non_selectable_button_names = [\n",
        "            button.get_name() for button in non_selectable_buttons\n",
        "        ]\n",
        "        non_selectable_button_indices = [\n",
        "            button_names.index(non_selectable_name)\n",
        "            for non_selectable_name in non_selectable_button_names\n",
        "        ]\n",
        "        pressed_button_index = cutie.select(button_names, non_selectable_button_indices)\n",
        "    else:\n",
        "        pressed_button_index = cutie.select(button_names)\n",
        "    buttons[pressed_button_index].press()\n",
        "\n",
        "\n",
        "def main_menu() -> None:\n",
        "    print(\"\")\n",
        "    print(\"Главное меню\")\n",
        "    print(\"─\" * 30)\n",
        "\n",
        "\n",
        "def title() -> None:\n",
        "    os.system(\"cls||clear\")\n",
        "    print(\"╭\" + \"─\".center(60, \"─\") + \"╮\")\n",
        "    print(\"│\" + \" \".center(60, \" \") + \"│\")\n",
        "    print(\"│\" + \"Geo Transform\".center(60, \" \") + \"│\")\n",
        "    print(\"│\" + \" \".center(60, \" \") + \"│\")\n",
        "    print(\"│\" + \"Утилита для работы с координатами\".center(60, \" \") + \"│\")\n",
        "    print(\"│\" + \"Разработал Свиридов Лев. Группа 2025-ФГИиБ-1м\".center(60, \" \") + \"│\")\n",
        "    print(\"│\" + \" \".center(60, \" \") + \"│\")\n",
        "    print(\"╰\" + \"─\".center(60, \"─\") + \"╯\")\n",
        "\n",
        "\n",
        "def title_and_main_menu() -> None:\n",
        "    title()\n",
        "    main_menu()\n",
        "\n",
        "\n",
        "def confirmation_prompt(\n",
        "    question: str,\n",
        "    on_confirm: Callable = lambda: None,\n",
        "    on_reject: Callable = lambda: None,\n",
        "    confirm_text: str = \"Да\",\n",
        "    reject_text: str = \"Нет\",\n",
        ") -> Any:\n",
        "    \"\"\"\n",
        "    Запрашивает у пользователя подтверждение действия, обозначенного в question.\n",
        "    В зависимости от согласия или отказа пользователя возвращает значение функции\n",
        "    из on_confirm или on_reject.\n",
        "\n",
        "    Args:\n",
        "        question (str): Описание действия для соглашения/отказа пользователя\n",
        "        on_confirm (_type_, optional): Функция, выполняемая при согласии. Defaults to lambda:None.\n",
        "        on_reject (_type_, optional): Функция, выполняемая при отклонении. Defaults to lambda:None.\n",
        "        confirm_text (str, optional): Текст кнопки подтверждения. Defaults to \"Да\".\n",
        "        reject_text (str, optional): Текст кнопки отклонения. Defaults to \"Нет\".\n",
        "\n",
        "    Returns:\n",
        "        Any: Значение функции из on_confirm или on_reject\n",
        "    \"\"\"\n",
        "    if cutie.prompt_yes_or_no(\n",
        "        question,\n",
        "        yes_text=confirm_text,\n",
        "        no_text=reject_text,\n",
        "        char_prompt=False,\n",
        "        default_is_yes=True,\n",
        "    ):\n",
        "        return on_confirm()\n",
        "    else:\n",
        "        return on_reject()\n",
        "\n",
        "\n",
        "def coordinate_input(afterinput_string: str = \"\"):\n",
        "    os.system(\"cls||clear\")\n",
        "    return validated_input(\n",
        "        \"Введите координаты, разделенные пробелом\",\n",
        "        [\n",
        "            list_len_validator(),\n",
        "            list_elems_validator(elem_validators=[only_digit_validator]),\n",
        "        ],\n",
        "        lambda: print(afterinput_string) if afterinput_string != \"\" else None,\n",
        "    ).split()\n",
        "\n",
        "\n",
        "# END COMPONENTS\n",
        "\n",
        "\n",
        "# ERRORS\n",
        "class ValidationError(Exception):\n",
        "    \"\"\"\n",
        "    Исключение, выбрасываемое при ошибке валидации\n",
        "    \"\"\"\n",
        "\n",
        "    pass\n",
        "\n",
        "\n",
        "# END ERRORS\n",
        "\n",
        "\n",
        "# VALIDATORS\n",
        "def not_empty(value: str) -> None:\n",
        "    if len(value) == 0 or value.isspace():\n",
        "        raise ValidationError(\"Значение не должно быть пустым.\")\n",
        "\n",
        "\n",
        "def list_len_validator(length: int = 3, sep: str = \" \") -> Callable[[str], None]:\n",
        "    def validate(value: str) -> None:\n",
        "        if len(value.split(sep)) != length:\n",
        "            raise ValidationError(\n",
        "                f\"Количество элементов должно равняться {length}. Сейчас {len(value.split(sep))}.\"\n",
        "            )\n",
        "\n",
        "    return validate\n",
        "\n",
        "\n",
        "def list_elems_validator(\n",
        "    sep: str = \" \",\n",
        "    elem_validators: Iterable[Callable[[str], None]] = [lambda _: None],\n",
        ") -> Callable[[str], None]:\n",
        "    def validate(value: str) -> None:\n",
        "        errors: Iterable[str] = []\n",
        "        for i, elem in enumerate(value.split(sep)):\n",
        "            for validator in elem_validators:\n",
        "                try:\n",
        "                    validator(elem)\n",
        "                except Exception as e:\n",
        "                    errors.append(\n",
        "                        f\"Ошибка для элемента '{elem}' под номером {i}: {str(e)}\"\n",
        "                    )\n",
        "        if len(errors):\n",
        "            raise ValidationError(\"\\n\".join(errors))\n",
        "\n",
        "    return validate\n",
        "\n",
        "\n",
        "def only_digit_validator(value: str) -> None:\n",
        "    is_num = True\n",
        "    try:\n",
        "        float(value)\n",
        "    except ValueError:\n",
        "        is_num = False\n",
        "\n",
        "    if not is_num:\n",
        "        raise ValidationError(f\"Значение '{value}' не является числом.\")\n",
        "\n",
        "\n",
        "# END VALIDATORS\n",
        "\n",
        "\n",
        "# ACTIONS\n",
        "\n",
        "# END ACTIONS\n"
      ],
      "metadata": {
        "colab": {
          "base_uri": "https://localhost:8080/"
        },
        "id": "V8NccOneY-Nu",
        "outputId": "5479783f-232c-40c9-814b-34a5273f4a09"
      },
      "execution_count": 8,
      "outputs": [
        {
          "output_type": "stream",
          "name": "stdout",
          "text": [
            "Writing geo_transform/terminal_ui.py\n"
          ]
        }
      ]
    },
    {
      "cell_type": "code",
      "source": [
        "%%writefile geo_transform/__main__.py\n",
        "\n",
        "import file_operations\n",
        "import terminal_ui\n",
        "import transformations\n",
        "import utils\n",
        "\n",
        "if __name__ == \"__main__\":\n",
        "    terminal_ui.title()\n",
        "    terminal_ui.main_menu()\n",
        "    while True:\n",
        "        terminal_ui.select(\n",
        "            on_render=lambda: None,\n",
        "            buttons=[\n",
        "                terminal_ui.Button(\n",
        "                    \"Преобразование координат\",\n",
        "                    lambda: terminal_ui.select(\n",
        "                        [\n",
        "                            terminal_ui.Button(\n",
        "                                \"Перевод в сферические\",\n",
        "                                lambda: print(\n",
        "                                    transformations.cartesian_to_spherical(\n",
        "                                        *map(\n",
        "                                            float,\n",
        "                                            terminal_ui.coordinate_input(\n",
        "                                                \"Сферические координаты: \"\n",
        "                                            ),\n",
        "                                        )\n",
        "                                    )\n",
        "                                ),\n",
        "                            ),\n",
        "                            terminal_ui.Button(\n",
        "                                \"Перевод в декартовы\",\n",
        "                                lambda: print(\n",
        "                                    transformations.spherical_to_cartesian(\n",
        "                                        *map(\n",
        "                                            float,\n",
        "                                            terminal_ui.coordinate_input(\n",
        "                                                \"Декартовы координаты: \"\n",
        "                                            ),\n",
        "                                        )\n",
        "                                    )\n",
        "                                ),\n",
        "                            ),\n",
        "                        ]\n",
        "                    ),\n",
        "                ),\n",
        "                terminal_ui.Button(\n",
        "                    \"Работа с файлами\",\n",
        "                    lambda: terminal_ui.select(\n",
        "                        [\n",
        "                            terminal_ui.Button(\n",
        "                                \"Записать результаты в файл\",\n",
        "                                lambda: print(\n",
        "                                    file_operations.write_results_to_file(\n",
        "                                        tuple(\n",
        "                                            map(\n",
        "                                                float,\n",
        "                                                terminal_ui.coordinate_input(),\n",
        "                                            )\n",
        "                                        ),  # type: ignore\n",
        "                                        terminal_ui.confirmation_prompt(\n",
        "                                            \"Хотите переопределить имя выходного файла (по умолчанию - output.csv)\",\n",
        "                                            on_confirm=lambda: terminal_ui.validated_input(\n",
        "                                                \"Введите имя файла\"\n",
        "                                            ),\n",
        "                                            on_reject=lambda: \"output.csv\",\n",
        "                                        ),\n",
        "                                        terminal_ui.confirmation_prompt(\n",
        "                                            \"Дописать в конец\",\n",
        "                                            on_confirm=lambda: True,\n",
        "                                            on_reject=lambda: False,\n",
        "                                        ),\n",
        "                                    )\n",
        "                                ),\n",
        "                            ),\n",
        "                            terminal_ui.Button(\n",
        "                                \"Считать результаты из файла\",\n",
        "                                lambda: print(\n",
        "                                    list(\n",
        "                                        file_operations.read_coordinates_from_file(\n",
        "                                            terminal_ui.validated_input(\n",
        "                                                \"Введите имя файла\",\n",
        "                                                [terminal_ui.not_empty],\n",
        "                                            )\n",
        "                                        )\n",
        "                                    )\n",
        "                                ),\n",
        "                            ),\n",
        "                        ]\n",
        "                    ),\n",
        "                ),\n",
        "                terminal_ui.Button(\n",
        "                    \"Утилиты\",\n",
        "                    lambda: terminal_ui.select(\n",
        "                        [\n",
        "                            terminal_ui.Button(\n",
        "                                \"Градусы в радианы\",\n",
        "                                lambda: print(\n",
        "                                    \"Радиан: \",\n",
        "                                    utils.deg_to_rad(\n",
        "                                        float(\n",
        "                                            terminal_ui.validated_input(\n",
        "                                                \"Введите число градусов\",\n",
        "                                                [\n",
        "                                                    terminal_ui.not_empty,\n",
        "                                                    terminal_ui.only_digit_validator,\n",
        "                                                ],\n",
        "                                            )\n",
        "                                        )\n",
        "                                    ),\n",
        "                                ),\n",
        "                            ),\n",
        "                            terminal_ui.Button(\n",
        "                                \"Радианы в градусы\",\n",
        "                                lambda: print(\n",
        "                                    \"Градусов: \",\n",
        "                                    utils.rad_to_deg(\n",
        "                                        float(\n",
        "                                            terminal_ui.validated_input(\n",
        "                                                \"Введите число радиан\",\n",
        "                                                [\n",
        "                                                    terminal_ui.not_empty,\n",
        "                                                    terminal_ui.only_digit_validator,\n",
        "                                                ],\n",
        "                                            )\n",
        "                                        )\n",
        "                                    ),\n",
        "                                ),\n",
        "                            ),\n",
        "                        ]\n",
        "                    ),\n",
        "                ),\n",
        "            ],\n",
        "        )\n"
      ],
      "metadata": {
        "id": "qzNV09hfcaUe",
        "colab": {
          "base_uri": "https://localhost:8080/"
        },
        "outputId": "920e19ca-dfb2-412b-b68b-fa94f288f61f"
      },
      "execution_count": 9,
      "outputs": [
        {
          "output_type": "stream",
          "name": "stdout",
          "text": [
            "Writing geo_transform/__main__.py\n"
          ]
        }
      ]
    },
    {
      "cell_type": "markdown",
      "source": [
        "### **Содержимое модуля main.py (с импортом пакета и тестированием функций из него):**"
      ],
      "metadata": {
        "id": "vGqPXMcdcpxE"
      }
    },
    {
      "cell_type": "code",
      "source": [
        "import random\n",
        "\n",
        "from geo_transform import file_operations\n",
        "from geo_transform.utils import *\n",
        "\n",
        "rand_range = (0, 100)\n",
        "for _ in range(10):\n",
        "    file_operations.write_results_to_file(\n",
        "        (\n",
        "            random.randint(*rand_range),\n",
        "            random.randint(*rand_range),\n",
        "            random.randint(*rand_range),\n",
        "        )\n",
        "    )\n",
        "for coord in file_operations.read_coordinates_from_file(\"output.csv\"):\n",
        "    print(\"=======================================================================\")\n",
        "    print(f\"Считанные координаты в сыром виде: {coord}\")\n",
        "    print(\n",
        "        f\"Считанные координаты в degrees: {tuple(map(lambda c: rad_to_deg(c), coord))}\"\n",
        "    )\n",
        "    print(\n",
        "        f\"Считанные координаты в radians: {tuple(map(lambda c: deg_to_rad(c), coord))}\"\n",
        "    )\n"
      ],
      "metadata": {
        "id": "4b1mRDL6cpxE",
        "colab": {
          "base_uri": "https://localhost:8080/"
        },
        "outputId": "a14ca654-7b2d-4690-b9b5-d435318b991f"
      },
      "execution_count": 10,
      "outputs": [
        {
          "output_type": "stream",
          "name": "stdout",
          "text": [
            "=======================================================================\n",
            "Считанные координаты в сыром виде: (39.0, 76.0, 48.0)\n",
            "Считанные координаты в degrees: (2234.5354010102105, 4354.479242994256, 2750.1974166279515)\n",
            "Считанные координаты в radians: (0.6806784082777885, 1.3264502315156905, 0.8377580409572782)\n",
            "=======================================================================\n",
            "Считанные координаты в сыром виде: (10.0, 69.0, 14.0)\n",
            "Считанные координаты в degrees: (572.9577951308232, 3953.40878640268, 802.1409131831525)\n",
            "Считанные координаты в radians: (0.17453292519943295, 1.2042771838760873, 0.24434609527920614)\n",
            "=======================================================================\n",
            "Считанные координаты в сыром виде: (27.0, 41.0, 50.0)\n",
            "Считанные координаты в degrees: (1546.9860468532227, 2349.1269600363753, 2864.7889756541163)\n",
            "Считанные координаты в radians: (0.47123889803846897, 0.7155849933176751, 0.8726646259971648)\n",
            "=======================================================================\n",
            "Считанные координаты в сыром виде: (78.0, 60.0, 59.0)\n",
            "Считанные координаты в degrees: (4469.070802020421, 3437.746770784939, 3380.450991271857)\n",
            "Считанные координаты в radians: (1.361356816555577, 1.0471975511965976, 1.0297442586766545)\n",
            "=======================================================================\n",
            "Считанные координаты в сыром виде: (65.0, 4.0, 30.0)\n",
            "Считанные координаты в degrees: (3724.225668350351, 229.1831180523293, 1718.8733853924696)\n",
            "Считанные координаты в radians: (1.1344640137963142, 0.06981317007977318, 0.5235987755982988)\n",
            "=======================================================================\n",
            "Считанные координаты в сыром виде: (5.0, 12.0, 66.0)\n",
            "Считанные координаты в degrees: (286.4788975654116, 687.5493541569879, 3781.5214478634334)\n",
            "Считанные координаты в radians: (0.08726646259971647, 0.20943951023931956, 1.1519173063162575)\n",
            "=======================================================================\n",
            "Считанные координаты в сыром виде: (79.0, 25.0, 46.0)\n",
            "Считанные координаты в degrees: (4526.366581533503, 1432.3944878270581, 2635.6058576017867)\n",
            "Считанные координаты в radians: (1.3788101090755203, 0.4363323129985824, 0.8028514559173916)\n",
            "=======================================================================\n",
            "Считанные координаты в сыром виде: (44.0, 24.0, 96.0)\n",
            "Считанные координаты в degrees: (2521.014298575622, 1375.0987083139757, 5500.394833255903)\n",
            "Считанные координаты в radians: (0.767944870877505, 0.4188790204786391, 1.6755160819145565)\n",
            "=======================================================================\n",
            "Считанные координаты в сыром виде: (30.0, 9.0, 38.0)\n",
            "Считанные координаты в degrees: (1718.8733853924696, 515.662015617741, 2177.239621497128)\n",
            "Считанные координаты в radians: (0.5235987755982988, 0.15707963267948966, 0.6632251157578453)\n",
            "=======================================================================\n",
            "Считанные координаты в сыром виде: (45.0, 37.0, 88.0)\n",
            "Считанные координаты в degrees: (2578.3100780887044, 2119.943841984046, 5042.028597151244)\n",
            "Считанные координаты в radians: (0.7853981633974483, 0.6457718232379019, 1.53588974175501)\n"
          ]
        }
      ]
    }
  ]
}